{
 "cells": [
  {
   "cell_type": "markdown",
   "metadata": {},
   "source": [
    "# U.S. Medical Insurance Costs"
   ]
  },
  {
   "cell_type": "markdown",
   "metadata": {},
   "source": [
    "***"
   ]
  },
  {
   "cell_type": "markdown",
   "metadata": {},
   "source": [
    "###### This is an unguided project from Codecademy as a part of the Data Scientist Career Path. "
   ]
  },
  {
   "cell_type": "markdown",
   "metadata": {},
   "source": [
    "### First, we must sort the data from the .CSV file format into a python dictionary."
   ]
  },
  {
   "cell_type": "code",
   "execution_count": 93,
   "metadata": {},
   "outputs": [],
   "source": [
    "import csv\n",
    "insurance_list = [] # Empty list to parse the data into\n",
    "\n",
    "with open('insurance.csv', newline='') as insurance_csv:\n",
    "    fields = ['age', 'sex', 'bmi', 'children', 'smoker', 'region', 'charges']\n",
    "    insurance_reader = csv.DictReader(insurance_csv, delimiter=',')\n",
    "\n",
    "    patient_age = []\n",
    "    patient_sex = []\n",
    "    patient_bmi = []\n",
    "    patient_children = []\n",
    "    patient_smoker = []\n",
    "    patient_region = []\n",
    "    patient_charges = []\n",
    "\n",
    "    for row in insurance_reader:\n",
    "        patient_age.append(row['age'])\n",
    "        patient_sex.append(row['sex'])\n",
    "        patient_bmi.append(row['bmi'])\n",
    "        patient_children.append(row['children'])\n",
    "        patient_smoker.append(row['smoker'])\n",
    "        patient_region.append(row['region'])\n",
    "        patient_charges.append(row['charges'])"
   ]
  },
  {
   "cell_type": "markdown",
   "metadata": {},
   "source": [
    "***"
   ]
  },
  {
   "cell_type": "markdown",
   "metadata": {},
   "source": [
    "### Now that the data is parsed and sorted we can start the analyses."
   ]
  },
  {
   "cell_type": "markdown",
   "metadata": {},
   "source": [
    "##### What is the average age of the policy holders?"
   ]
  },
  {
   "cell_type": "code",
   "execution_count": 94,
   "metadata": {},
   "outputs": [
    {
     "name": "stdout",
     "output_type": "stream",
     "text": [
      "39.2\n"
     ]
    }
   ],
   "source": [
    "def find_average_age():\n",
    "    total_age = 0\n",
    "    for i in patient_age:\n",
    "        total_age += float(i)\n",
    "    float_average_age = total_age / len(patient_age)\n",
    "    average_age = round(float_average_age, 1)\n",
    "    print(average_age)\n",
    "find_average_age()\n"
   ]
  },
  {
   "cell_type": "markdown",
   "metadata": {},
   "source": [
    "##### It is determined that the average age of policy holders is 39.2 years.\n",
    "***"
   ]
  },
  {
   "cell_type": "markdown",
   "metadata": {},
   "source": [
    "\n",
    "##### Where do the majority of policy holders live?"
   ]
  },
  {
   "cell_type": "code",
   "execution_count": 95,
   "metadata": {},
   "outputs": [
    {
     "name": "stdout",
     "output_type": "stream",
     "text": [
      "325 policy holders live in the southwest.\n",
      "325 policy holders live in the northwest.\n",
      "364 policy holders live in the southeast.\n",
      "324 policy holders live in the northeast.\n"
     ]
    }
   ],
   "source": [
    "def region_function(patient_region):\n",
    "    southwest = 0\n",
    "    northwest = 0\n",
    "    southeast = 0\n",
    "    northeast = 0 \n",
    "    for i in patient_region:\n",
    "        if i == 'southwest':\n",
    "            southwest += 1\n",
    "        elif i == 'northwest':\n",
    "            northwest += 1\n",
    "        elif i == 'southeast':\n",
    "            southeast += 1\n",
    "        elif i == 'northeast':\n",
    "            northeast += 1\n",
    "    print(str(southwest) + ' policy holders live in the southwest.')\n",
    "    print(str(northwest) + ' policy holders live in the northwest.')\n",
    "    print(str(southeast) + ' policy holders live in the southeast.')\n",
    "    print(str(northeast) + ' policy holders live in the northeast.')\n",
    "region_function(patient_region)\n"
   ]
  },
  {
   "cell_type": "markdown",
   "metadata": {},
   "source": [
    "##### It is determined by the function above that 325 policy holders live in the North and Southwest, 324 policy holders live in northeast, and the slight majority live in the southeast of the United States."
   ]
  },
  {
   "cell_type": "markdown",
   "metadata": {},
   "source": [
    "***"
   ]
  },
  {
   "cell_type": "markdown",
   "metadata": {},
   "source": [
    "##### What is the difference in cost between policy holders who smoke and those who do not smoke?"
   ]
  },
  {
   "cell_type": "code",
   "execution_count": 96,
   "metadata": {},
   "outputs": [
    {
     "name": "stdout",
     "output_type": "stream",
     "text": [
      "The average cost for policy holders who smoke is $32050.23\n",
      "The average cost for policy holders who do no smoke is $8434.27\n",
      "Average increase: 23615.96\n"
     ]
    }
   ],
   "source": [
    "smokers_cost = []\n",
    "non_smokers_cost = []\n",
    "\n",
    "for i in range(0, len(patient_age)):\n",
    "    if patient_smoker[i] == 'yes':\n",
    "        smokers_cost.append(patient_charges[i])\n",
    "    elif patient_smoker[i] == 'no':\n",
    "        non_smokers_cost.append(patient_charges[i])\n",
    "\n",
    "# Determine total cost for smokers and find the average\n",
    "total_smokers_cost = 0\n",
    "for cost in smokers_cost:\n",
    "    total_smokers_cost += float(cost)\n",
    "\n",
    "flt_avg_smokers_cost = total_smokers_cost / len(smokers_cost)\n",
    "avg_smokers_cost = round(flt_avg_smokers_cost, 2)\n",
    "\n",
    "# Determine total cost for non-smokers and find the average.\n",
    "total_non_smokers_cost = 0\n",
    "for cost in non_smokers_cost:\n",
    "    total_non_smokers_cost += float(cost)\n",
    "\n",
    "flt_avg_non_smokers_cost = total_non_smokers_cost / len(non_smokers_cost)\n",
    "avg_non_smokers_cost = round(flt_avg_non_smokers_cost, 2)\n",
    "\n",
    "avg_diff_smoker_cost = avg_smokers_cost - avg_non_smokers_cost\n",
    "\n",
    "print('The average cost for policy holders who smoke is $' + str(avg_smokers_cost))\n",
    "print('The average cost for policy holders who do no smoke is $' + str(avg_non_smokers_cost))\n",
    "print('Average increase: ' + str(avg_diff_smoker_cost))"
   ]
  },
  {
   "cell_type": "markdown",
   "metadata": {},
   "source": [
    "##### The data shows that on average policy holders who smoke pay $23615.96 more than policy holders who do not smoke."
   ]
  },
  {
   "cell_type": "markdown",
   "metadata": {},
   "source": [
    "***"
   ]
  },
  {
   "cell_type": "markdown",
   "metadata": {},
   "source": [
    "##### What is the average BMI difference between males and females of the policy holders?"
   ]
  },
  {
   "cell_type": "code",
   "execution_count": 97,
   "metadata": {},
   "outputs": [
    {
     "name": "stdout",
     "output_type": "stream",
     "text": [
      "The average male BMI is 30.9.\n",
      "The average female BMI is 30.4.\n"
     ]
    }
   ],
   "source": [
    "# Determine total males and females for average\n",
    "total_males = []\n",
    "total_females = []\n",
    "\n",
    "for i in patient_sex:\n",
    "    if i == 'male':\n",
    "        total_males.append(i)\n",
    "    elif i == 'female':\n",
    "        total_females.append(i)\n",
    "\n",
    "# Determine total BMI for each sex\n",
    "total_male_bmi = 0\n",
    "total_female_bmi = 0\n",
    "\n",
    "for i in range(0, len(patient_age)):\n",
    "    if patient_sex[i] == 'male':\n",
    "        total_male_bmi += float(patient_bmi[i])\n",
    "    elif patient_sex[i] == 'female':\n",
    "        total_female_bmi += float(patient_bmi[i])\n",
    "\n",
    "# Determine averages and round\n",
    "flt_avg_male_bmi = total_male_bmi / len(total_males)\n",
    "flt_avg_female_bmi = total_female_bmi / len(total_females)\n",
    "avg_male_bmi = round(flt_avg_male_bmi, 1)\n",
    "avg_female_bmi = round(flt_avg_female_bmi, 1)\n",
    "\n",
    "print('The average male BMI is ' + str(avg_male_bmi) + '.')\n",
    "print('The average female BMI is ' + str(avg_female_bmi) + '.')"
   ]
  },
  {
   "cell_type": "markdown",
   "metadata": {},
   "source": [
    "##### The data provided shows little to no difference in BMI when comparing males to females."
   ]
  },
  {
   "cell_type": "markdown",
   "metadata": {},
   "source": [
    "***"
   ]
  },
  {
   "cell_type": "markdown",
   "metadata": {},
   "source": [
    "# Conclusion\n",
    "\n",
    "- #### The average age of policy holders is 39.2.\n",
    "- #### The policy holders for the most part live all over the country with a slight majority living in the southeast of the United States.\n",
    "- #### Policy holders who smoke pay on average $23,615.96 more than policy holders who do not smoke.\n",
    "- #### The average BMI showed little difference when comparing the two opposite sexes."
   ]
  }
 ],
 "metadata": {
  "kernelspec": {
   "display_name": "Python 3 (ipykernel)",
   "language": "python",
   "name": "python3"
  },
  "language_info": {
   "codemirror_mode": {
    "name": "ipython",
    "version": 3
   },
   "file_extension": ".py",
   "mimetype": "text/x-python",
   "name": "python",
   "nbconvert_exporter": "python",
   "pygments_lexer": "ipython3",
   "version": "3.10.2"
  }
 },
 "nbformat": 4,
 "nbformat_minor": 4
}
